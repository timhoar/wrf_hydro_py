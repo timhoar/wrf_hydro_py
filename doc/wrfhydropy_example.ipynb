{
 "cells": [
  {
   "cell_type": "code",
   "execution_count": 1,
   "metadata": {},
   "outputs": [],
   "source": [
    "import wrfhydropy\n",
    "import os"
   ]
  },
  {
   "cell_type": "code",
   "execution_count": 2,
   "metadata": {},
   "outputs": [],
   "source": [
    "model = wrfhydropy.Model('/home/docker/mount/wrf_hydro_nwm_public/trunk/NDHMS/',compiler='gfort',model_config='nwm_ana')\n",
    "domain = wrfhydropy.Domain(domain_top_dir='/home/docker/mount/domain/example_case',domain_config='nwm_ana')"
   ]
  },
  {
   "cell_type": "code",
   "execution_count": 3,
   "metadata": {},
   "outputs": [],
   "source": [
    "simulation = wrfhydropy.Simulation()"
   ]
  },
  {
   "cell_type": "code",
   "execution_count": 4,
   "metadata": {
    "scrolled": true
   },
   "outputs": [
    {
     "name": "stderr",
     "output_type": "stream",
     "text": [
      "/home/docker/miniconda3/lib/python3.6/site-packages/wrfhydropy-0.0.15.dev4-py3.6.egg/wrfhydropy/core/simulation.py:225: UserWarning: Model minor versions v5.1.0-alpha9\n",
      " do not match domain minor versions v5.1.0-alpha8\n"
     ]
    }
   ],
   "source": [
    "simulation.add(model)\n",
    "simulation.add(domain)"
   ]
  },
  {
   "cell_type": "code",
   "execution_count": 5,
   "metadata": {},
   "outputs": [],
   "source": [
    "simulation.base_hydro_namelist['hydro_nlist']['output_channelbucket_influx'] = 0"
   ]
  },
  {
   "cell_type": "code",
   "execution_count": 6,
   "metadata": {},
   "outputs": [],
   "source": [
    "exe_cmd = 'mpirun -np 4 ./wrf_hydro.exe'\n",
    "job_24hr = wrfhydropy.Job(job_id='24hr',\n",
    "                          exe_cmd = exe_cmd,\n",
    "                          model_start_time = '2011-08-26',\n",
    "                          model_end_time='2011-08-28',\n",
    "                          restart_freq_hr=24,\n",
    "                          output_freq_hr=24)\n",
    "job_1hr = wrfhydropy.Job(job_id='1hr',\n",
    "                         exe_cmd = exe_cmd,\n",
    "                         model_start_time = '2011-08-28',\n",
    "                         model_end_time='2011-08-29',\n",
    "                         restart_freq_hr=1,\n",
    "                         output_freq_hr=1)\n",
    "for job in [job_24hr,job_1hr]:\n",
    "    simulation.add(job)"
   ]
  },
  {
   "cell_type": "code",
   "execution_count": 8,
   "metadata": {},
   "outputs": [
    {
     "name": "stdout",
     "output_type": "stream",
     "text": [
      "Composing simulation into directory:'/home/docker/test_run'\n",
      "Getting domain files...\n",
      "/home/docker/mount/domain/example_case/NWM/DOMAIN/nudgingParams.nc\n",
      "/home/docker/mount/domain/example_case/NWM/RESTART/nudgingLastObs.2011-08-26_00:00:00.nc\n",
      "Making job directories...\n",
      "Validating job input files\n",
      "24hr\n",
      "1hr\n",
      "Compiling model...\n",
      "Model successfully compiled into /home/docker/test_run\n",
      "Simulation successfully composed\n"
     ]
    }
   ],
   "source": [
    "os.mkdir('/home/docker/test_run')\n",
    "os.chdir('/home/docker/test_run')\n",
    "simulation.compose()"
   ]
  },
  {
   "cell_type": "code",
   "execution_count": 9,
   "metadata": {},
   "outputs": [
    {
     "name": "stdout",
     "output_type": "stream",
     "text": [
      "\n",
      "Running job 24hr: \n",
      "    Wall start time: 2018-09-13 18:06:37\n",
      "    Model start time: 2011-08-26 00:00\n",
      "    Model end time: 2011-08-28 00:00\n",
      "\n",
      "Running job 1hr: \n",
      "    Wall start time: 2018-09-13 18:06:42\n",
      "    Model start time: 2011-08-28 00:00\n",
      "    Model end time: 2011-08-29 00:00\n"
     ]
    }
   ],
   "source": [
    "simulation.run()"
   ]
  },
  {
   "cell_type": "code",
   "execution_count": 10,
   "metadata": {},
   "outputs": [],
   "source": [
    "simulation.collect()"
   ]
  },
  {
   "cell_type": "code",
   "execution_count": 12,
   "metadata": {},
   "outputs": [
    {
     "data": {
      "text/plain": [
       "[<matplotlib.lines.Line2D at 0x7f8c10f228d0>]"
      ]
     },
     "execution_count": 12,
     "metadata": {},
     "output_type": "execute_result"
    },
    {
     "data": {
      "image/png": "[encoded data removed]",
      "text/plain": [
       "<Figure size 432x288 with 1 Axes>"
      ]
     },
     "metadata": {},
     "output_type": "display_data"
    }
   ],
   "source": [
    "simulation.output.channel_rt.open(forecast=False).sel(feature_id=6226932).streamflow.plot()"
   ]
  },
  {
   "cell_type": "code",
   "execution_count": null,
   "metadata": {},
   "outputs": [],
   "source": []
  }
 ],
 "metadata": {
  "kernelspec": {
   "display_name": "Python 3",
   "language": "python",
   "name": "python3"
  },
  "language_info": {
   "codemirror_mode": {
    "name": "ipython",
    "version": 3
   },
   "file_extension": ".py",
   "mimetype": "text/x-python",
   "name": "python",
   "nbconvert_exporter": "python",
   "pygments_lexer": "ipython3",
   "version": "3.6.4"
  }
 },
 "nbformat": 4,
 "nbformat_minor": 2
}
